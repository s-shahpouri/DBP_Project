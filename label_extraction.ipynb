{
 "cells": [
  {
   "cell_type": "code",
   "execution_count": 1,
   "metadata": {},
   "outputs": [],
   "source": [
    "import os\n",
    "import fnmatch\n",
    "import json"
   ]
  },
  {
   "cell_type": "code",
   "execution_count": 2,
   "metadata": {},
   "outputs": [],
   "source": [
    "# Create destination directory\n",
    "# source_directory = r'/data/DoseBased_alignment_data_restructured'\n",
    "# destination_directory = r'/data/DoseBasedAlign_data'\n",
    "# logfile_directory = r'/home/shahpouriz/Data/output/PXAlignment/log_UID_test.txt'\n",
    "\n",
    "directory = '/home/shahpouriz/Data/DBP_newDATA/DBP/results_DBP_OP007_Photons_20231024_053647.json'"
   ]
  },
  {
   "cell_type": "code",
   "execution_count": 12,
   "metadata": {},
   "outputs": [
    {
     "name": "stdout",
     "output_type": "stream",
     "text": [
      "True\n",
      "DBP_OP007\n",
      "DBP_OP007_Photons_20231006_182434\n",
      "[{'plan_name': 'A1FHH', 'planning_exam_name': 'pCTf0', 'dose_dicom_filename': 'DBP_OP007/A1FHH/rtdose_pCTf0_1.2.752.243.1.1.20231023170004754.3603.98635.dcm', 'evaluation_examinations': [{'final_translation_coordinate': {'x': -0.00983, 'y': -0.01466, 'z': -0.05631}, 'dose_dicom_filename': 'DBP_OP007/A1FHH/rCTp2/optimization_case_0/rtdose_rCTp2_1.2.752.243.1.1.20231023170058500.6267.64263.dcm'}, {'final_translation_coordinate': {'x': -0.31608, 'y': 0.57203, 'z': -1.43678}, 'dose_dicom_filename': 'DBP_OP007/A1FHH/rCTp2/optimization_case_1/rtdose_rCTp2_1.2.752.243.1.1.20231023171030719.5034.60642.dcm'}, {'final_translation_coordinate': {'x': -1.24023, 'y': -1.13003, 'z': -0.5508}, 'dose_dicom_filename': 'DBP_OP007/A1FHH/rCTp2/optimization_case_2/rtdose_rCTp2_1.2.752.243.1.1.20231023173055319.6661.43643.dcm'}, {'final_translation_coordinate': {'x': -0.8456, 'y': 1.02861, 'z': 0.76292}, 'dose_dicom_filename': 'DBP_OP007/A1FHH/rCTp2/optimization_case_3/rtdose_rCTp2_1.2.752.243.1.1.20231023175131709.7540.29118.dcm'}, {'final_translation_coordinate': {'x': -0.67083, 'y': -0.83023, 'z': 0.04188}, 'dose_dicom_filename': 'DBP_OP007/A1FHH/rCTp2/optimization_case_4/rtdose_rCTp2_1.2.752.243.1.1.20231023180443726.8792.65078.dcm'}, {'final_translation_coordinate': {'x': 1.35193, 'y': 1.2482, 'z': -0.43038}, 'dose_dicom_filename': 'DBP_OP007/A1FHH/rCTp2/optimization_case_5/rtdose_rCTp2_1.2.752.243.1.1.20231023181811764.5548.13258.dcm'}, {'final_translation_coordinate': {'x': -0.91016, 'y': -1.14909, 'z': 0.08638}, 'dose_dicom_filename': 'DBP_OP007/A1FHH/rCTp2/optimization_case_6/rtdose_rCTp2_1.2.752.243.1.1.20231023183952516.9133.72603.dcm'}, {'final_translation_coordinate': {'x': -0.03336, 'y': -0.01278, 'z': -0.03657}, 'dose_dicom_filename': 'DBP_OP007/A1FHH/rCTp6/optimization_case_0/rtdose_rCTp6_1.2.752.243.1.1.20231023185348464.3720.74179.dcm'}, {'final_translation_coordinate': {'x': 0.82091, 'y': -1.26254, 'z': 0.90321}, 'dose_dicom_filename': 'DBP_OP007/A1FHH/rCTp6/optimization_case_1/rtdose_rCTp6_1.2.752.243.1.1.20231023190344418.9195.11437.dcm'}, {'final_translation_coordinate': {'x': 1.18696, 'y': 0.86082, 'z': -0.20779}, 'dose_dicom_filename': 'DBP_OP007/A1FHH/rCTp6/optimization_case_2/rtdose_rCTp6_1.2.752.243.1.1.20231023192109279.4800.29357.dcm'}, {'final_translation_coordinate': {'x': -0.26737, 'y': -1.14495, 'z': 0.66023}, 'dose_dicom_filename': 'DBP_OP007/A1FHH/rCTp6/optimization_case_3/rtdose_rCTp6_1.2.752.243.1.1.20231023193844658.9896.26648.dcm'}, {'final_translation_coordinate': {'x': 0.70776, 'y': -1.58131, 'z': 0.18513}, 'dose_dicom_filename': 'DBP_OP007/A1FHH/rCTp6/optimization_case_4/rtdose_rCTp6_1.2.752.243.1.1.20231023195245767.1478.72709.dcm'}, {'final_translation_coordinate': {'x': 0.13379, 'y': -0.09247, 'z': -0.84246}, 'dose_dicom_filename': 'DBP_OP007/A1FHH/rCTp6/optimization_case_5/rtdose_rCTp6_1.2.752.243.1.1.20231023200627860.5053.44468.dcm'}, {'final_translation_coordinate': {'x': 1.38321, 'y': 1.10032, 'z': 0.08638}, 'dose_dicom_filename': 'DBP_OP007/A1FHH/rCTp6/optimization_case_6/rtdose_rCTp6_1.2.752.243.1.1.20231023202810135.3035.68769.dcm'}, {'final_translation_coordinate': {'x': 0.00324, 'y': -0.01565, 'z': -0.00984}, 'dose_dicom_filename': 'DBP_OP007/A1FHH/rCTp12/optimization_case_0/rtdose_rCTp12_1.2.752.243.1.1.20231023204621118.6287.62965.dcm'}, {'final_translation_coordinate': {'x': 0.93213, 'y': -0.68789, 'z': -1.44764}, 'dose_dicom_filename': 'DBP_OP007/A1FHH/rCTp12/optimization_case_1/rtdose_rCTp12_1.2.752.243.1.1.20231023205628172.8870.78723.dcm'}, {'final_translation_coordinate': {'x': -0.99021, 'y': 0.45085, 'z': -1.43225}, 'dose_dicom_filename': 'DBP_OP007/A1FHH/rCTp12/optimization_case_2/rtdose_rCTp12_1.2.752.243.1.1.20231023211803268.5194.12415.dcm'}, {'final_translation_coordinate': {'x': -0.11635, 'y': 1.07694, 'z': 0.02179}, 'dose_dicom_filename': 'DBP_OP007/A1FHH/rCTp12/optimization_case_3/rtdose_rCTp12_1.2.752.243.1.1.20231023214412794.1204.85288.dcm'}, {'final_translation_coordinate': {'x': 1.14705, 'y': -1.18386, 'z': -0.13624}, 'dose_dicom_filename': 'DBP_OP007/A1FHH/rCTp12/optimization_case_4/rtdose_rCTp12_1.2.752.243.1.1.20231023215445576.7527.97723.dcm'}, {'final_translation_coordinate': {'x': -0.85879, 'y': 1.29556, 'z': -1.23587}, 'dose_dicom_filename': 'DBP_OP007/A1FHH/rCTp12/optimization_case_5/rtdose_rCTp12_1.2.752.243.1.1.20231023220900659.9962.53903.dcm'}, {'final_translation_coordinate': {'x': 0.33455, 'y': 0.02265, 'z': -0.66597}, 'dose_dicom_filename': 'DBP_OP007/A1FHH/rCTp12/optimization_case_6/rtdose_rCTp12_1.2.752.243.1.1.20231023223538470.9925.93401.dcm'}, {'final_translation_coordinate': {'x': 0.02872, 'y': 0.06176, 'z': 0.04187}, 'dose_dicom_filename': 'DBP_OP007/A1FHH/rCTp17/optimization_case_0/rtdose_rCTp17_1.2.752.243.1.1.20231023225413641.8780.36047.dcm'}, {'final_translation_coordinate': {'x': 1.52126, 'y': 0.17809, 'z': -0.05028}, 'dose_dicom_filename': 'DBP_OP007/A1FHH/rCTp17/optimization_case_1/rtdose_rCTp17_1.2.752.243.1.1.20231023230446599.2085.19668.dcm'}, {'final_translation_coordinate': {'x': 0.76155, 'y': 0.91158, 'z': -1.12258}, 'dose_dicom_filename': 'DBP_OP007/A1FHH/rCTp17/optimization_case_2/rtdose_rCTp17_1.2.752.243.1.1.20231023232321469.3164.99295.dcm'}, {'final_translation_coordinate': {'x': -0.41809, 'y': -1.39524, 'z': 0.92075}, 'dose_dicom_filename': 'DBP_OP007/A1FHH/rCTp17/optimization_case_3/rtdose_rCTp17_1.2.752.243.1.1.20231023234215162.2697.40630.dcm'}, {'final_translation_coordinate': {'x': -1.48337, 'y': -1.1515, 'z': 1.06815}, 'dose_dicom_filename': 'DBP_OP007/A1FHH/rCTp17/optimization_case_4/rtdose_rCTp17_1.2.752.243.1.1.20231024000515763.5260.43508.dcm'}, {'final_translation_coordinate': {'x': -0.70005, 'y': 1.35404, 'z': 0.55939}, 'dose_dicom_filename': 'DBP_OP007/A1FHH/rCTp17/optimization_case_5/rtdose_rCTp17_1.2.752.243.1.1.20231024002822275.8011.64105.dcm'}, {'final_translation_coordinate': {'x': 1.29314, 'y': -0.56243, 'z': -0.78523}, 'dose_dicom_filename': 'DBP_OP007/A1FHH/rCTp17/optimization_case_6/rtdose_rCTp17_1.2.752.243.1.1.20231024004724886.5480.75423.dcm'}, {'final_translation_coordinate': {'x': -0.00664, 'y': -0.03757, 'z': 0.03605}, 'dose_dicom_filename': 'DBP_OP007/A1FHH/rCTp22/optimization_case_0/rtdose_rCTp22_1.2.752.243.1.1.20231024010715617.8501.20791.dcm'}, {'final_translation_coordinate': {'x': -1.23002, 'y': -1.55179, 'z': -0.51215}, 'dose_dicom_filename': 'DBP_OP007/A1FHH/rCTp22/optimization_case_1/rtdose_rCTp22_1.2.752.243.1.1.20231024011824334.1896.42216.dcm'}, {'final_translation_coordinate': {'x': -0.23919, 'y': 1.3529, 'z': 0.29781}, 'dose_dicom_filename': 'DBP_OP007/A1FHH/rCTp22/optimization_case_2/rtdose_rCTp22_1.2.752.243.1.1.20231024014207446.6265.97241.dcm'}, {'final_translation_coordinate': {'x': 1.15371, 'y': 0.02896, 'z': 0.28352}, 'dose_dicom_filename': 'DBP_OP007/A1FHH/rCTp22/optimization_case_3/rtdose_rCTp22_1.2.752.243.1.1.20231024015745493.3349.24811.dcm'}, {'final_translation_coordinate': {'x': 1.36602, 'y': -0.32883, 'z': 1.03008}, 'dose_dicom_filename': 'DBP_OP007/A1FHH/rCTp22/optimization_case_4/rtdose_rCTp22_1.2.752.243.1.1.20231024021335527.7747.81762.dcm'}, {'final_translation_coordinate': {'x': 0.9038, 'y': -0.85561, 'z': -0.81034}, 'dose_dicom_filename': 'DBP_OP007/A1FHH/rCTp22/optimization_case_5/rtdose_rCTp22_1.2.752.243.1.1.20231024023759407.2936.96624.dcm'}, {'final_translation_coordinate': {'x': -0.43745, 'y': 0.33644, 'z': 0.30508}, 'dose_dicom_filename': 'DBP_OP007/A1FHH/rCTp22/optimization_case_6/rtdose_rCTp22_1.2.752.243.1.1.20231024025814796.7701.72135.dcm'}, {'final_translation_coordinate': {'x': 0.00216, 'y': 0.00245, 'z': 0.02678}, 'dose_dicom_filename': 'DBP_OP007/A1FHH/rCTp27/optimization_case_0/rtdose_rCTp27_1.2.752.243.1.1.20231024031445481.8364.49748.dcm'}, {'final_translation_coordinate': {'x': 0.40246, 'y': 0.44798, 'z': 0.37003}, 'dose_dicom_filename': 'DBP_OP007/A1FHH/rCTp27/optimization_case_1/rtdose_rCTp27_1.2.752.243.1.1.20231024032629646.1385.43312.dcm'}, {'final_translation_coordinate': {'x': -1.21078, 'y': -0.50707, 'z': -0.4174}, 'dose_dicom_filename': 'DBP_OP007/A1FHH/rCTp27/optimization_case_2/rtdose_rCTp27_1.2.752.243.1.1.20231024034241579.4413.55557.dcm'}, {'final_translation_coordinate': {'x': 0.75001, 'y': -0.99717, 'z': -1.18885}, 'dose_dicom_filename': 'DBP_OP007/A1FHH/rCTp27/optimization_case_3/rtdose_rCTp27_1.2.752.243.1.1.20231024040358134.6413.45256.dcm'}, {'final_translation_coordinate': {'x': 0.04439, 'y': -0.82892, 'z': 1.23303}, 'dose_dicom_filename': 'DBP_OP007/A1FHH/rCTp27/optimization_case_4/rtdose_rCTp27_1.2.752.243.1.1.20231024042926894.9921.98231.dcm'}, {'final_translation_coordinate': {'x': 0.39575, 'y': 0.79966, 'z': -0.87277}, 'dose_dicom_filename': 'DBP_OP007/A1FHH/rCTp27/optimization_case_5/rtdose_rCTp27_1.2.752.243.1.1.20231024045525472.2642.55798.dcm'}, {'final_translation_coordinate': {'x': -0.12329, 'y': 0.53877, 'z': -0.7309}, 'dose_dicom_filename': 'DBP_OP007/A1FHH/rCTp27/optimization_case_6/rtdose_rCTp27_1.2.752.243.1.1.20231024051708769.6058.33573.dcm'}]}]\n"
     ]
    }
   ],
   "source": [
    "import json\n",
    "import glob\n",
    "import os\n",
    "class RawDataReader:\n",
    "    def __init__(self, file_path):\n",
    "        with open(file_path, 'r') as file:\n",
    "            self.data = json.load(file)\n",
    "\n",
    "        self.id = self.data['ID']\n",
    "        self.file_identifier = self.data['patients_file_identifier']\n",
    "        self.plan_details = self.extract_plan_details()\n",
    "\n",
    "    def extract_plan_details(self):\n",
    "        plan_details = []\n",
    "        for plan in self.data['plans']:\n",
    "            print(plan['completed'])\n",
    "            plan_name = plan['name']\n",
    "            planning_exam_name = plan['planning_examination']['name']\n",
    "            dose_dicom_filename = plan['planning_examination']['dose_DICOM_filename']\n",
    "\n",
    "            evaluation_exams = []\n",
    "            for exam in plan['evaluation_examinations']:\n",
    "                for opt_case in exam['optimization_cases']:\n",
    "                    if opt_case.get('completed', True) and 'gradient_descent_result' in opt_case:\n",
    "                        final_trans_coord = opt_case['gradient_descent_result'].get('final_translation_coordinate', {})\n",
    "                        x = round(final_trans_coord.get('x', 0), 5)\n",
    "                        y = round(final_trans_coord.get('y', 0), 5)\n",
    "                        z = round(final_trans_coord.get('z', 0), 5)\n",
    "                        exam_detail = {\n",
    "                            # 'name': exam['name'],\n",
    "                            'final_translation_coordinate': {'x': x, 'y': y, 'z': z},\n",
    "                            'dose_dicom_filename': opt_case['gradient_descent_result'].get('dose_DICOM_filename', '')\n",
    "                        }\n",
    "                        evaluation_exams.append(exam_detail)\n",
    "\n",
    "            plan_details.append({\n",
    "                'plan_name': plan_name,\n",
    "                'planning_exam_name': planning_exam_name,\n",
    "                'dose_dicom_filename': dose_dicom_filename,\n",
    "                'evaluation_examinations': evaluation_exams\n",
    "            })\n",
    "\n",
    "        return plan_details\n",
    "\n",
    "    def get_plan_details(self):\n",
    "        return self.plan_details\n",
    "# Usage\n",
    "file_path = '/home/shahpouriz/Data/DBP_newDATA/DBP/results_DBP_OP007_Photons_20231024_053647.json'\n",
    "treatment_data = RawDataReader (file_path)\n",
    "print(treatment_data.id)\n",
    "print(treatment_data.file_identifier)\n",
    "print(treatment_data.get_plan_details())\n"
   ]
  },
  {
   "cell_type": "markdown",
   "metadata": {},
   "source": [
    "--------------------"
   ]
  }
 ],
 "metadata": {
  "kernelspec": {
   "display_name": "torch",
   "language": "python",
   "name": "python3"
  },
  "language_info": {
   "codemirror_mode": {
    "name": "ipython",
    "version": 3
   },
   "file_extension": ".py",
   "mimetype": "text/x-python",
   "name": "python",
   "nbconvert_exporter": "python",
   "pygments_lexer": "ipython3",
   "version": "3.11.5"
  },
  "orig_nbformat": 4
 },
 "nbformat": 4,
 "nbformat_minor": 2
}
